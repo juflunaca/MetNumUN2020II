{
 "cells": [
  {
   "cell_type": "code",
   "execution_count": 1,
   "metadata": {
    "colab": {
     "base_uri": "https://localhost:8080/"
    },
    "executionInfo": {
     "elapsed": 1628,
     "status": "ok",
     "timestamp": 1604412778022,
     "user": {
      "displayName": "German Jairo Hernandez Perez",
      "photoUrl": "https://lh3.googleusercontent.com/a-/AOh14Gh95MZV2bAn_0u07yrh7N9y1HbnaaIPrzNM6EHq=s64",
      "userId": "18009912999143277538"
     },
     "user_tz": 300
    },
    "id": "vLwDl129-jhR",
    "outputId": "d0027bb8-873f-4922-be7a-413716198ab6"
   },
   "outputs": [
    {
     "name": "stdout",
     "output_type": "stream",
     "text": [
      "For e^(x):\n",
      "7.0\n",
      "\n",
      "For sin(x):\n",
      "0.909347442680776\n",
      "\n",
      "For log(1+y):\n",
      "0.18233066666666667\n"
     ]
    }
   ],
   "source": [
    "import math\n",
    "x = 2\n",
    "y = 0.2\n",
    "print(\"For e^(x):\")\n",
    "e_to_2 = x**0/math.factorial(0) + x**1/math.factorial(1) + x**2/math.factorial(2) + x**3/math.factorial(3) + x**4/math.factorial(4)\n",
    "print(e_to_2)\n",
    "print(\"\\nFor sin(x):\")\n",
    "sin2= x - x**3/math.factorial(3) + x**5/math.factorial(5) - x**7/math.factorial(7) + x**9/math.factorial(9)\n",
    "print(sin2)\n",
    "print(\"\\nFor log(1+y):\")\n",
    "log1_02= y - y**2/2 + y**3/3 - y**4/4 + y**5/5  \n",
    "print(log1_02)"
   ]
  },
  {
   "cell_type": "code",
   "execution_count": 2,
   "metadata": {
    "colab": {
     "base_uri": "https://localhost:8080/"
    },
    "executionInfo": {
     "elapsed": 809,
     "status": "ok",
     "timestamp": 1604412778507,
     "user": {
      "displayName": "German Jairo Hernandez Perez",
      "photoUrl": "https://lh3.googleusercontent.com/a-/AOh14Gh95MZV2bAn_0u07yrh7N9y1HbnaaIPrzNM6EHq=s64",
      "userId": "18009912999143277538"
     },
     "user_tz": 300
    },
    "id": "32L27d0r_EwV",
    "outputId": "ff606ecf-b288-4d26-bafb-a5f790a55e3e"
   },
   "outputs": [
    {
     "name": "stdout",
     "output_type": "stream",
     "text": [
      "For e^(x):\n",
      "7.38905609893065\n",
      "\n",
      "For sin(x):\n",
      "0.9092974268256817\n",
      "\n",
      "For log(1+y):\n",
      "0.1823215567939546\n"
     ]
    }
   ],
   "source": [
    "print(\"For e^(x):\")\n",
    "print(math.exp(2))\n",
    "print(\"\\nFor sin(x):\")\n",
    "print(math.sin(2))\n",
    "print(\"\\nFor log(1+y):\")\n",
    "print(math.log(1+0.2))"
   ]
  },
  {
   "cell_type": "code",
   "execution_count": 3,
   "metadata": {
    "colab": {
     "base_uri": "https://localhost:8080/"
    },
    "executionInfo": {
     "elapsed": 837,
     "status": "ok",
     "timestamp": 1604412799930,
     "user": {
      "displayName": "German Jairo Hernandez Perez",
      "photoUrl": "https://lh3.googleusercontent.com/a-/AOh14Gh95MZV2bAn_0u07yrh7N9y1HbnaaIPrzNM6EHq=s64",
      "userId": "18009912999143277538"
     },
     "user_tz": 300
    },
    "id": "xTjBEI-s_KO8",
    "outputId": "5e9132e1-26b4-4895-aeb3-501c45320598"
   },
   "outputs": [
    {
     "name": "stdout",
     "output_type": "stream",
     "text": [
      "For e^(x):\n",
      "7.3887125220458545\n",
      "\n",
      "For sin(x):\n",
      "0.909297426825641\n",
      "\n",
      "For log(1+y):\n",
      "0.18233066666666667\n"
     ]
    }
   ],
   "source": [
    "import math\n",
    "x = 2\n",
    "y = 0.2\n",
    "print(\"For e^(x):\")\n",
    "e_to_2 = 0\n",
    "for i in range(10):\n",
    "    e_to_2 += x**i/math.factorial(i) \n",
    "print(e_to_2)\n",
    "print(\"\\nFor sin(x):\")\n",
    "sin2 = 0\n",
    "for i in range(10):\n",
    "    sin2 += ((-1)**i)*(x**(2*i+1))/math.factorial(2*i+1)\n",
    "print(sin2)\n",
    "print(\"\\nFor log(1+y):\")\n",
    "log1_02 = 0\n",
    "for i in range(1,6):\n",
    "    log1_02 += ((-1)**(i+1))*y**i/i\n",
    "print(log1_02)"
   ]
  },
  {
   "cell_type": "markdown",
   "metadata": {
    "id": "CeFgUwtNfwKO"
   },
   "source": [
    "For the Taylor series for $f(x) = e^x$ about $c=0$ (Maclaurin) \n",
    "\n",
    "$$ E_n = \\frac{f^{(n+1)}(\\xi)}{(n+1)!}(x-c)^{(n+1)} = \\frac{e^\\xi}{(n+1)!}x^{(n+1)} \\le  \\frac{e^x}{(n+1)!}x^{(n+1)},\\text{ given that } $$\n",
    "\n",
    "\n",
    "If we want $E_n \\le \\epsilon$ then we need $n$ such that because $e^x \\ge e^\\xi$, for  $c=0 \\le \\xi \\le x$ \n",
    "\n",
    "\n",
    "$$ \\frac{e^x}{(n+1)!}x^{(n+1)} < \\epsilon$$ \n",
    "\n",
    "because $e^x \\ge e^\\xi$, for  $0 \\le \\xi \\le x$.\n"
   ]
  },
  {
   "cell_type": "code",
   "execution_count": null,
   "metadata": {
    "colab": {
     "base_uri": "https://localhost:8080/"
    },
    "executionInfo": {
     "elapsed": 1477,
     "status": "ok",
     "timestamp": 1604412989355,
     "user": {
      "displayName": "German Jairo Hernandez Perez",
      "photoUrl": "https://lh3.googleusercontent.com/a-/AOh14Gh95MZV2bAn_0u07yrh7N9y1HbnaaIPrzNM6EHq=s64",
      "userId": "18009912999143277538"
     },
     "user_tz": 300
    },
    "id": "ZIEObg2JbjfY",
    "outputId": "86028f28-430d-4367-a968-4e0339a1fa61"
   },
   "outputs": [
    {
     "name": "stdout",
     "output_type": "stream",
     "text": [
      "40\n",
      "0   0  delta  1.0\n",
      "1   1.0  delta  10.0\n",
      "2   11.0  delta  50.0\n",
      "3   61.0  delta  166.66666666666666\n",
      "4   227.66666666666666  delta  416.6666666666667\n",
      "5   644.3333333333334  delta  833.3333333333334\n",
      "6   1477.6666666666667  delta  1388.888888888889\n",
      "7   2866.5555555555557  delta  1984.126984126984\n",
      "8   4850.68253968254  delta  2480.15873015873\n",
      "9   7330.84126984127  delta  2755.731922398589\n",
      "10   10086.573192239859  delta  2755.731922398589\n",
      "11   12842.305114638448  delta  2505.210838544172\n",
      "12   15347.51595318262  delta  2087.67569878681\n",
      "13   17435.191651969428  delta  1605.9043836821616\n",
      "14   19041.09603565159  delta  1147.0745597729724\n",
      "15   20188.170595424563  delta  764.7163731819817\n",
      "16   20952.886968606545  delta  477.9477332387385\n",
      "17   21430.834701845284  delta  281.14572543455205\n",
      "18   21711.980427279836  delta  156.19206968586226\n",
      "19   21868.172496965697  delta  82.2063524662433\n",
      "20   21950.37884943194  delta  41.10317623312165\n",
      "21   21991.482025665064  delta  19.572941063391262\n",
      "22   22011.054966728454  delta  8.896791392450574\n",
      "23   22019.951758120904  delta  3.868170170630684\n",
      "24   22023.819928291534  delta  1.6117375710961184\n",
      "25   22025.43166586263  delta  0.6446950284384474\n",
      "26   22026.076360891067  delta  0.24795962632247975\n",
      "27   22026.32432051739  delta  0.09183689863795547\n",
      "28   22026.416157416028  delta  0.03279889237069838\n",
      "29   22026.4489563084  delta  0.011309962886447717\n",
      "30   22026.460266271286  delta  0.003769987628815906\n",
      "31   22026.464036258916  delta  0.001216125041553518\n",
      "32   22026.465252383958  delta  0.00038003907548547436\n",
      "33   22026.465632423035  delta  0.0001151633562077195\n",
      "34   22026.46574758639  delta  3.3871575355211616e-05\n",
      "35   22026.465781457966  delta  9.677592958631891e-06\n",
      "36   22026.465791135557  delta  2.6882202662866364e-06\n",
      "37   22026.465793823776  delta  7.265460179153071e-07\n",
      "38   22026.46579455032  delta  1.9119632050402818e-07\n",
      "39   22026.465794741518  delta  4.9024697565135436e-08\n",
      "math.exp(10) =  22026.465794806718\n"
     ]
    }
   ],
   "source": [
    "print(\"For e^(x):\")\n",
    "import math\n",
    "\n",
    "x = 10\n",
    "epsilon = 10**(-4)\n",
    "\n",
    "for k in range(1000):\n",
    "  if (  ( (math.exp(x) * x**(k+1)) / math.factorial(k+1) ) < epsilon):\n",
    "    break\n",
    "print(k)\n",
    "\n",
    "e_to_x = 0\n",
    "for i in range(k):\n",
    "    print(i,' ',e_to_x, ' delta ', x**i/math.factorial(i))\n",
    "    e_to_x += x**i/math.factorial(i) \n",
    "    \n",
    "print('math.exp(10) = ',math.exp(10))"
   ]
  },
  {
   "cell_type": "markdown",
   "metadata": {
    "id": "CeFgUwtNfwKO"
   },
   "source": [
    "For the Taylor series for $f(x) = sin(x)$ about $c=0$ (Maclaurin) \n",
    "\n",
    "$$ E_n = \\frac{f^{(n+1)}(\\xi)}{(n+1)!}(x-c)^{(n+1)}$$ And we have that:\n",
    "\n",
    "$$f^{(n+1)} = sin(x+\\frac{(n+1)\\pi}{2})$$ So:\n",
    "\n",
    "$$ E_n = |\\frac{sin(\\xi+\\frac{(n+1)\\pi}{2})}{(n+1)!}x^{(n+1)}| \\le  \\frac{1}{(n+1)!}x^{(n+1)},\\text{ given that } $$\n",
    "\n",
    "\n",
    "If we want $E_n \\le \\epsilon$ then we need $n$ such that because $1 \\ge |sin(\\xi+\\frac{(n+1)\\pi}{2})|$, for  $c=0 \\le \\xi \\le x$ \n",
    "\n",
    "\n",
    "$$ \\frac{1}{(n+1)!}x^{(n+1)} < \\epsilon$$\n"
   ]
  },
  {
   "cell_type": "code",
   "execution_count": 3,
   "metadata": {
    "colab": {
     "base_uri": "https://localhost:8080/"
    },
    "executionInfo": {
     "elapsed": 1477,
     "status": "ok",
     "timestamp": 1604412989355,
     "user": {
      "displayName": "German Jairo Hernandez Perez",
      "photoUrl": "https://lh3.googleusercontent.com/a-/AOh14Gh95MZV2bAn_0u07yrh7N9y1HbnaaIPrzNM6EHq=s64",
      "userId": "18009912999143277538"
     },
     "user_tz": 300
    },
    "id": "ZIEObg2JbjfY",
    "outputId": "86028f28-430d-4367-a968-4e0339a1fa61"
   },
   "outputs": [
    {
     "name": "stdout",
     "output_type": "stream",
     "text": [
      "For sin(x):\n",
      "33\n",
      "0   0  delta  10.0\n",
      "1   10.0  delta  -166.66666666666666\n",
      "2   -156.66666666666666  delta  833.3333333333334\n",
      "3   676.6666666666667  delta  -1984.126984126984\n",
      "4   -1307.4603174603174  delta  2755.731922398589\n",
      "5   1448.2716049382718  delta  -2505.210838544172\n",
      "6   -1056.9392336059002  delta  1605.9043836821616\n",
      "7   548.9651500762614  delta  -764.7163731819817\n",
      "8   -215.75122310572033  delta  281.14572543455205\n",
      "9   65.39450232883172  delta  -82.2063524662433\n",
      "10   -16.811850137411582  delta  19.572941063391262\n",
      "11   2.76109092597968  delta  -3.868170170630684\n",
      "12   -1.107079244651004  delta  0.6446950284384474\n",
      "13   -0.46238421621255665  delta  -0.09183689863795547\n",
      "14   -0.5542211148505121  delta  0.011309962886447717\n",
      "15   -0.5429111519640644  delta  -0.001216125041553518\n",
      "16   -0.5441272770056179  delta  0.0001151633562077195\n",
      "17   -0.5440121136494102  delta  -9.677592958631891e-06\n",
      "18   -0.5440217912423688  delta  7.265460179153071e-07\n",
      "19   -0.5440210646963509  delta  -4.9024697565135436e-08\n",
      "20   -0.5440211137210484  delta  2.9893108271424046e-09\n",
      "21   -0.5440211107317376  delta  -1.6552108677421953e-10\n",
      "22   -0.5440211108972587  delta  8.359650847182803e-12\n",
      "23   -0.544021110888899  delta  -3.866628513960594e-13\n",
      "24   -0.5440211108892857  delta  1.643974708316579e-14\n",
      "25   -0.5440211108892693  delta  -6.446959640457173e-16\n",
      "26   -0.54402111088927  delta  2.3392451525606577e-17\n",
      "27   -0.54402111088927  delta  -7.876246304918039e-19\n",
      "28   -0.54402111088927  delta  2.4674957095607893e-20\n",
      "29   -0.54402111088927  delta  -7.210682961895936e-22\n",
      "30   -0.54402111088927  delta  1.9701319568021682e-23\n",
      "31   -0.54402111088927  delta  -5.043860616493006e-25\n",
      "32   -0.54402111088927  delta  1.2124664943492804e-26\n",
      "math.exp(10) =  -0.5440211108893698\n"
     ]
    }
   ],
   "source": [
    "print(\"For sin(x):\")\n",
    "import math\n",
    "\n",
    "x = 10\n",
    "epsilon = 10**(-4)\n",
    "\n",
    "for k in range(1000):\n",
    "  if (  ( (x**(k+1)) / math.factorial(k+1) ) < epsilon):\n",
    "    break\n",
    "print(k)\n",
    "\n",
    "sin_x = 0\n",
    "for i in range(k):\n",
    "    print(i,' ',sin_x, ' delta ', ((-1)**i)*(x**(2*i+1))/math.factorial(2*i+1))\n",
    "    sin_x += ((-1)**i)*(x**(2*i+1))/math.factorial(2*i+1) \n",
    "    \n",
    "print('math.exp(10) = ',math.sin(10))"
   ]
  },
  {
   "cell_type": "markdown",
   "metadata": {
    "id": "CeFgUwtNfwKO"
   },
   "source": [
    "For the Taylor series for $f(y) = log(1+y)$ about $c=0$ (Maclaurin) \n",
    "\n",
    "$$ E_n = \\frac{f^{(n+1)}(\\xi)}{(n+1)!}(x-c)^{(n+1)}$$ And we have that:\n",
    "\n",
    "$$f^{(n+1)} = (-1)^n\\frac{n!}{(x+1)^{(n+1)}}$$ So:\n",
    "\n",
    "$$ E_n = (-1)^n\\frac{1}{(\\xi+1)^{n+1}(n+1)}x^{(n+1)} \\le  \\frac{1}{(n+1)}x^{(n+1)},\\text{ given that } $$\n",
    "\n",
    "\n",
    "If we want $E_n \\le \\epsilon$ then we need $n$ such that because $1 \\le (\\xi+1)^{n+1}$, for  $c=0 \\le \\xi \\le x \\le 1$ \n",
    "\n",
    "\n",
    "$$ \\frac{1}{(n+1)}x^{(n+1)} < \\epsilon$$"
   ]
  },
  {
   "cell_type": "code",
   "execution_count": 11,
   "metadata": {
    "colab": {
     "base_uri": "https://localhost:8080/"
    },
    "executionInfo": {
     "elapsed": 1477,
     "status": "ok",
     "timestamp": 1604412989355,
     "user": {
      "displayName": "German Jairo Hernandez Perez",
      "photoUrl": "https://lh3.googleusercontent.com/a-/AOh14Gh95MZV2bAn_0u07yrh7N9y1HbnaaIPrzNM6EHq=s64",
      "userId": "18009912999143277538"
     },
     "user_tz": 300
    },
    "id": "ZIEObg2JbjfY",
    "outputId": "86028f28-430d-4367-a968-4e0339a1fa61"
   },
   "outputs": [
    {
     "name": "stdout",
     "output_type": "stream",
     "text": [
      "For log(1+y):\n",
      "4\n",
      "1   0.2  delta  -0.020000000000000004\n",
      "2   0.18  delta  0.0026666666666666674\n",
      "3   0.18266666666666667  delta  -0.0004000000000000001\n",
      "4   0.18226666666666666  delta  6.400000000000001e-05\n",
      "math.log(1+y) =  0.1823215567939546\n"
     ]
    }
   ],
   "source": [
    "print(\"For log(1+y):\")\n",
    "import math\n",
    "\n",
    "y = 0.2\n",
    "epsilon = 10**(-4)\n",
    "\n",
    "for k in range(1000):\n",
    "  if ( ( y**(k+1)) / (k+1) < epsilon):\n",
    "    break\n",
    "print(k)\n",
    "\n",
    "log1_y = 0\n",
    "for i in range(1,k+1):\n",
    "    log1_y += ((-1)**(i+1))*y**i/i\n",
    "    print(i,' ',log1_y, ' delta ', ((-1)**(i+2))*y**(i+1)/(i+1))\n",
    "    \n",
    "print('math.log(1+y) = ',math.log(1+y))"
   ]
  },
  {
   "cell_type": "markdown",
   "metadata": {
    "id": "Mi6Xm1WRz4jv"
   },
   "source": [
    "$$ \\frac{e^x}{(n+1)!}x^{(n+1)} < \\frac{3^x}{(n+1)!}x^{(n+1)} < \\epsilon$$ \n",
    "\n",
    "$$ \\frac{1}{(n+1)!}x^{(n+1)} < \\frac{5}{(n+1)!}x^{(n+1)} < \\epsilon$$\n",
    "\n",
    "$$ \\frac{1}{(n+1)}y^{(n+1)} < \\frac{5}{(n+1)}y^{(n+1)} < \\epsilon$$"
   ]
  },
  {
   "cell_type": "code",
   "execution_count": 12,
   "metadata": {
    "colab": {
     "base_uri": "https://localhost:8080/"
    },
    "executionInfo": {
     "elapsed": 1134,
     "status": "ok",
     "timestamp": 1604414720183,
     "user": {
      "displayName": "German Jairo Hernandez Perez",
      "photoUrl": "https://lh3.googleusercontent.com/a-/AOh14Gh95MZV2bAn_0u07yrh7N9y1HbnaaIPrzNM6EHq=s64",
      "userId": "18009912999143277538"
     },
     "user_tz": 300
    },
    "id": "hRvsaSzRz2dq",
    "outputId": "1d53c48e-9181-47d0-8abc-777382c9a7ce"
   },
   "outputs": [
    {
     "name": "stdout",
     "output_type": "stream",
     "text": [
      "For e^x:\n",
      "58\n",
      "0   0  delta  1.0\n",
      "1   1.0  delta  10.0\n",
      "2   11.0  delta  50.0\n",
      "3   61.0  delta  166.66666666666666\n",
      "4   227.66666666666666  delta  416.6666666666667\n",
      "5   644.3333333333334  delta  833.3333333333334\n",
      "6   1477.6666666666667  delta  1388.888888888889\n",
      "7   2866.5555555555557  delta  1984.126984126984\n",
      "8   4850.68253968254  delta  2480.15873015873\n",
      "9   7330.84126984127  delta  2755.731922398589\n",
      "10   10086.573192239859  delta  2755.731922398589\n",
      "11   12842.305114638448  delta  2505.210838544172\n",
      "12   15347.51595318262  delta  2087.67569878681\n",
      "13   17435.191651969428  delta  1605.9043836821616\n",
      "14   19041.09603565159  delta  1147.0745597729724\n",
      "15   20188.170595424563  delta  764.7163731819817\n",
      "16   20952.886968606545  delta  477.9477332387385\n",
      "17   21430.834701845284  delta  281.14572543455205\n",
      "18   21711.980427279836  delta  156.19206968586226\n",
      "19   21868.172496965697  delta  82.2063524662433\n",
      "20   21950.37884943194  delta  41.10317623312165\n",
      "21   21991.482025665064  delta  19.572941063391262\n",
      "22   22011.054966728454  delta  8.896791392450574\n",
      "23   22019.951758120904  delta  3.868170170630684\n",
      "24   22023.819928291534  delta  1.6117375710961184\n",
      "25   22025.43166586263  delta  0.6446950284384474\n",
      "26   22026.076360891067  delta  0.24795962632247975\n",
      "27   22026.32432051739  delta  0.09183689863795547\n",
      "28   22026.416157416028  delta  0.03279889237069838\n",
      "29   22026.4489563084  delta  0.011309962886447717\n",
      "30   22026.460266271286  delta  0.003769987628815906\n",
      "31   22026.464036258916  delta  0.001216125041553518\n",
      "32   22026.465252383958  delta  0.00038003907548547436\n",
      "33   22026.465632423035  delta  0.0001151633562077195\n",
      "34   22026.46574758639  delta  3.3871575355211616e-05\n",
      "35   22026.465781457966  delta  9.677592958631891e-06\n",
      "36   22026.465791135557  delta  2.6882202662866364e-06\n",
      "37   22026.465793823776  delta  7.265460179153071e-07\n",
      "38   22026.46579455032  delta  1.9119632050402818e-07\n",
      "39   22026.465794741518  delta  4.9024697565135436e-08\n",
      "40   22026.465794790543  delta  1.2256174391283859e-08\n",
      "41   22026.4657948028  delta  2.9893108271424046e-09\n",
      "42   22026.46579480579  delta  7.11740673129144e-10\n",
      "43   22026.465794806503  delta  1.6552108677421953e-10\n",
      "44   22026.465794806667  delta  3.761842881232262e-11\n",
      "45   22026.465794806703  delta  8.359650847182803e-12\n",
      "46   22026.46579480671  delta  1.817315401561479e-12\n",
      "47   22026.46579480671  delta  3.866628513960594e-13\n",
      "48   22026.46579480671  delta  8.055476070751238e-14\n",
      "49   22026.46579480671  delta  1.643974708316579e-14\n",
      "50   22026.46579480671  delta  3.287949416633158e-15\n",
      "51   22026.46579480671  delta  6.446959640457173e-16\n",
      "52   22026.46579480671  delta  1.2397999308571487e-16\n",
      "53   22026.46579480671  delta  2.3392451525606577e-17\n",
      "54   22026.46579480671  delta  4.331935467704922e-18\n",
      "55   22026.46579480671  delta  7.876246304918039e-19\n",
      "56   22026.46579480671  delta  1.4064725544496499e-19\n",
      "57   22026.46579480671  delta  2.4674957095607893e-20\n",
      "58   22026.46579480671  delta  4.2543029475186024e-21\n",
      "math.exp(10) =  22026.465794806718\n"
     ]
    }
   ],
   "source": [
    "print(\"For e^x:\")\n",
    "import math\n",
    "\n",
    "x = 10\n",
    "epsilon = 10**(-16)\n",
    "\n",
    "for k in range(1000):\n",
    "  if (  ( (3**x * x**(k+1)) / math.factorial(k+1) ) < epsilon):\n",
    "    break\n",
    "print(k)\n",
    "\n",
    "e_to_x = 0\n",
    "for i in range(k+1):\n",
    "    print(i,' ',e_to_x, ' delta ', x**i/math.factorial(i))\n",
    "    e_to_x += x**i/math.factorial(i) \n",
    "    \n",
    "print('math.exp(10) = ',math.exp(10))"
   ]
  },
  {
   "cell_type": "code",
   "execution_count": 14,
   "metadata": {
    "colab": {
     "base_uri": "https://localhost:8080/"
    },
    "executionInfo": {
     "elapsed": 1134,
     "status": "ok",
     "timestamp": 1604414720183,
     "user": {
      "displayName": "German Jairo Hernandez Perez",
      "photoUrl": "https://lh3.googleusercontent.com/a-/AOh14Gh95MZV2bAn_0u07yrh7N9y1HbnaaIPrzNM6EHq=s64",
      "userId": "18009912999143277538"
     },
     "user_tz": 300
    },
    "id": "hRvsaSzRz2dq",
    "outputId": "1d53c48e-9181-47d0-8abc-777382c9a7ce"
   },
   "outputs": [
    {
     "name": "stdout",
     "output_type": "stream",
     "text": [
      "For sin(x):\n",
      "53\n",
      "0   0  delta  10.0\n",
      "1   10.0  delta  -166.66666666666666\n",
      "2   -156.66666666666666  delta  833.3333333333334\n",
      "3   676.6666666666667  delta  -1984.126984126984\n",
      "4   -1307.4603174603174  delta  2755.731922398589\n",
      "5   1448.2716049382718  delta  -2505.210838544172\n",
      "6   -1056.9392336059002  delta  1605.9043836821616\n",
      "7   548.9651500762614  delta  -764.7163731819817\n",
      "8   -215.75122310572033  delta  281.14572543455205\n",
      "9   65.39450232883172  delta  -82.2063524662433\n",
      "10   -16.811850137411582  delta  19.572941063391262\n",
      "11   2.76109092597968  delta  -3.868170170630684\n",
      "12   -1.107079244651004  delta  0.6446950284384474\n",
      "13   -0.46238421621255665  delta  -0.09183689863795547\n",
      "14   -0.5542211148505121  delta  0.011309962886447717\n",
      "15   -0.5429111519640644  delta  -0.001216125041553518\n",
      "16   -0.5441272770056179  delta  0.0001151633562077195\n",
      "17   -0.5440121136494102  delta  -9.677592958631891e-06\n",
      "18   -0.5440217912423688  delta  7.265460179153071e-07\n",
      "19   -0.5440210646963509  delta  -4.9024697565135436e-08\n",
      "20   -0.5440211137210484  delta  2.9893108271424046e-09\n",
      "21   -0.5440211107317376  delta  -1.6552108677421953e-10\n",
      "22   -0.5440211108972587  delta  8.359650847182803e-12\n",
      "23   -0.544021110888899  delta  -3.866628513960594e-13\n",
      "24   -0.5440211108892857  delta  1.643974708316579e-14\n",
      "25   -0.5440211108892693  delta  -6.446959640457173e-16\n",
      "26   -0.54402111088927  delta  2.3392451525606577e-17\n",
      "27   -0.54402111088927  delta  -7.876246304918039e-19\n",
      "28   -0.54402111088927  delta  2.4674957095607893e-20\n",
      "29   -0.54402111088927  delta  -7.210682961895936e-22\n",
      "30   -0.54402111088927  delta  1.9701319568021682e-23\n",
      "31   -0.54402111088927  delta  -5.043860616493006e-25\n",
      "32   -0.54402111088927  delta  1.2124664943492804e-26\n",
      "33   -0.54402111088927  delta  -2.74189618803546e-28\n",
      "34   -0.54402111088927  delta  5.843768516699616e-30\n",
      "35   -0.54402111088927  delta  -1.1758085546679308e-31\n",
      "36   -0.54402111088927  delta  2.2370786808750585e-33\n",
      "37   -0.54402111088927  delta  -4.0307723979730785e-35\n",
      "38   -0.54402111088927  delta  6.887854405285507e-37\n",
      "39   -0.54402111088927  delta  -1.117795262136564e-38\n",
      "40   -0.54402111088927  delta  1.7249926884823517e-40\n",
      "41   -0.54402111088927  delta  -2.53451761457883e-42\n",
      "42   -0.54402111088927  delta  3.5497445582336556e-44\n",
      "43   -0.54402111088927  delta  -4.744379254522394e-46\n",
      "44   -0.54402111088927  delta  6.057685462873334e-48\n",
      "45   -0.54402111088927  delta  -7.396441346609687e-50\n",
      "46   -0.54402111088927  delta  8.64474210683694e-52\n",
      "47   -0.54402111088927  delta  -9.680562269694223e-54\n",
      "48   -0.54402111088927  delta  1.039579281539328e-55\n",
      "49   -0.54402111088927  delta  -1.0715102881254669e-57\n",
      "50   -0.54402111088927  delta  1.0609012753717494e-59\n",
      "51   -0.54402111088927  delta  -1.0098051355147054e-61\n",
      "52   -0.54402111088927  delta  9.247299775775689e-64\n",
      "math.exp(10) =  -0.5440211108893698\n"
     ]
    }
   ],
   "source": [
    "print(\"For sin(x):\")\n",
    "import math\n",
    "\n",
    "x = 10\n",
    "epsilon = 10**(-16)\n",
    "\n",
    "for k in range(1000):\n",
    "  if (  ( (5*x**(k+1)) / math.factorial(k+1) ) < epsilon):\n",
    "    break\n",
    "print(k)\n",
    "\n",
    "sin_x = 0\n",
    "for i in range(k):\n",
    "    print(i,' ',sin_x, ' delta ', ((-1)**i)*(x**(2*i+1))/math.factorial(2*i+1))\n",
    "    sin_x += ((-1)**i)*(x**(2*i+1))/math.factorial(2*i+1) \n",
    "    \n",
    "print('math.exp(10) = ',math.sin(10))"
   ]
  },
  {
   "cell_type": "code",
   "execution_count": 15,
   "metadata": {
    "colab": {
     "base_uri": "https://localhost:8080/"
    },
    "executionInfo": {
     "elapsed": 1134,
     "status": "ok",
     "timestamp": 1604414720183,
     "user": {
      "displayName": "German Jairo Hernandez Perez",
      "photoUrl": "https://lh3.googleusercontent.com/a-/AOh14Gh95MZV2bAn_0u07yrh7N9y1HbnaaIPrzNM6EHq=s64",
      "userId": "18009912999143277538"
     },
     "user_tz": 300
    },
    "id": "hRvsaSzRz2dq",
    "outputId": "1d53c48e-9181-47d0-8abc-777382c9a7ce"
   },
   "outputs": [
    {
     "name": "stdout",
     "output_type": "stream",
     "text": [
      "For log(1+y):\n",
      "21\n",
      "1   0.2  delta  -0.020000000000000004\n",
      "2   0.18  delta  0.0026666666666666674\n",
      "3   0.18266666666666667  delta  -0.0004000000000000001\n",
      "4   0.18226666666666666  delta  6.400000000000001e-05\n",
      "5   0.18233066666666667  delta  -1.066666666666667e-05\n",
      "6   0.18232  delta  1.8285714285714292e-06\n",
      "7   0.1823218285714286  delta  -3.2000000000000017e-07\n",
      "8   0.1823215085714286  delta  5.688888888888891e-08\n",
      "9   0.18232156546031747  delta  -1.0240000000000006e-08\n",
      "10   0.18232155522031748  delta  1.861818181818183e-09\n",
      "11   0.18232155708213565  delta  -3.4133333333333355e-10\n",
      "12   0.18232155674080233  delta  6.301538461538465e-11\n",
      "13   0.18232155680381773  delta  -1.1702857142857152e-11\n",
      "14   0.18232155679211487  delta  2.184533333333335e-12\n",
      "15   0.1823215567942994  delta  -4.0960000000000034e-13\n",
      "16   0.1823215567938898  delta  7.71011764705883e-14\n",
      "17   0.18232155679396692  delta  -1.456355555555557e-14\n",
      "18   0.18232155679395234  delta  2.7594105263157923e-15\n",
      "19   0.1823215567939551  delta  -5.242880000000006e-16\n",
      "20   0.18232155679395456  delta  9.986438095238107e-17\n",
      "21   0.18232155679395468  delta  -1.9065018181818204e-17\n",
      "math.log(1+y) =  0.1823215567939546\n"
     ]
    }
   ],
   "source": [
    "print(\"For log(1+y):\")\n",
    "import math\n",
    "\n",
    "y = 0.2\n",
    "epsilon = 10**(-16)\n",
    "\n",
    "for k in range(1000):\n",
    "  if ( ( 5*y**(k+1)) / (k+1) < epsilon):\n",
    "    break\n",
    "print(k)\n",
    "\n",
    "log1_y = 0\n",
    "for i in range(1,k+1):\n",
    "    log1_y += ((-1)**(i+1))*y**i/i\n",
    "    print(i,' ',log1_y, ' delta ', ((-1)**(i+2))*y**(i+1)/(i+1))\n",
    "    \n",
    "print('math.log(1+y) = ',math.log(1+y))"
   ]
  },
  {
   "cell_type": "code",
   "execution_count": 17,
   "metadata": {
    "colab": {
     "base_uri": "https://localhost:8080/"
    },
    "executionInfo": {
     "elapsed": 639,
     "status": "ok",
     "timestamp": 1605566685798,
     "user": {
      "displayName": "German Jairo Hernandez Perez",
      "photoUrl": "https://lh3.googleusercontent.com/a-/AOh14Gh95MZV2bAn_0u07yrh7N9y1HbnaaIPrzNM6EHq=s64",
      "userId": "18009912999143277538"
     },
     "user_tz": 300
    },
    "id": "ZmlwI27Cz0cn",
    "outputId": "cc2dbcb5-e9b9-42f5-b303-37503bc506f8"
   },
   "outputs": [
    {
     "name": "stdout",
     "output_type": "stream",
     "text": [
      "34\n",
      "e_to_x =  22026.465781457966\n",
      "math.exp(10) =  22026.465794806718 \n",
      "\n",
      "17\n",
      "sin_x =  -0.5440217912423688\n",
      "math.sin(10) =  -0.5440211108893698 \n",
      "\n",
      "4\n",
      "log1_x =  0.18233066666666667\n",
      "math.log(1.2) =  0.1823215567939546\n"
     ]
    }
   ],
   "source": [
    "import math\n",
    "\n",
    "x = 10\n",
    "y=0.2\n",
    "epsilon = 10**(-4)\n",
    "\n",
    "delta = 1\n",
    "e_to_x = 0\n",
    "i = 0\n",
    "while  epsilon <= delta:\n",
    "  delta = x**i/math.factorial(i) \n",
    "  e_to_x += delta\n",
    "  i = i+1\n",
    "print(i-1) \n",
    "print('e_to_x = ',e_to_x)    \n",
    "print('math.exp(10) = ',math.exp(10),'\\n')\n",
    "\n",
    "delta = 1\n",
    "sin_x = 0\n",
    "i = 0\n",
    "while  epsilon <= abs(delta):\n",
    "  delta = ((-1)**i)*(x**(2*i+1))/math.factorial(2*i+1) \n",
    "  sin_x += delta\n",
    "  i = i+1\n",
    "print(i-1) \n",
    "print('sin_x = ',sin_x)    \n",
    "print('math.sin(10) = ',math.sin(10),'\\n')\n",
    "\n",
    "delta = 1\n",
    "log1_x = 0\n",
    "i = 0\n",
    "while  epsilon <= abs(delta):\n",
    "  delta = ((-1)**(i+2))*y**(i+1)/(i+1) \n",
    "  log1_x += delta\n",
    "  i = i+1\n",
    "print(i-1) \n",
    "print('log1_x = ',log1_x)    \n",
    "print('math.log(1.2) = ',math.log(1.2))"
   ]
  },
  {
   "cell_type": "code",
   "execution_count": null,
   "metadata": {},
   "outputs": [],
   "source": []
  }
 ],
 "metadata": {
  "colab": {
   "authorship_tag": "ABX9TyO8gO/XAWgJyLTqskUiwGpv",
   "collapsed_sections": [],
   "name": "Taylor_e_to_x_error.ipynb",
   "provenance": []
  },
  "kernelspec": {
   "display_name": "Python 3",
   "language": "python",
   "name": "python3"
  },
  "language_info": {
   "codemirror_mode": {
    "name": "ipython",
    "version": 3
   },
   "file_extension": ".py",
   "mimetype": "text/x-python",
   "name": "python",
   "nbconvert_exporter": "python",
   "pygments_lexer": "ipython3",
   "version": "3.8.3"
  }
 },
 "nbformat": 4,
 "nbformat_minor": 1
}
